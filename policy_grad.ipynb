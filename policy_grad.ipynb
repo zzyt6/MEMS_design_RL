{
 "cells": [
  {
   "cell_type": "code",
   "execution_count": 1,
   "id": "e89eefae",
   "metadata": {},
   "outputs": [
    {
     "name": "stderr",
     "output_type": "stream",
     "text": [
      "d:\\Anconda\\envs\\d2l\\lib\\site-packages\\torch\\utils\\_pytree.py:185: FutureWarning: optree is installed but the version is too old to support PyTorch Dynamo in C++ pytree. C++ pytree support is disabled. Please consider upgrading optree using `python3 -m pip install --upgrade 'optree>=0.13.0'`.\n",
      "  warnings.warn(\n"
     ]
    }
   ],
   "source": [
    "#因为我们是策略网络所以说我们要构建策略神经网络，搭建网络环境\n",
    "import torch\n",
    "import torch.nn as nn\n",
    "import torch.nn.functional as F\n",
    "\n",
    "class PGnet(nn.Module):\n",
    "    def __init__(self, input_dim,output_dim,hidden_dim = 128):\n",
    "        super(PGnet,self).__init__();\n",
    "        self.fc1 = nn.linear(input_dim,hidden_dim)\n",
    "        self.fc2 = nn.linear(hidden_dim,hidden_dim)\n",
    "        self.fc3 = nn.linear(hidden_dim,output_dim)\n",
    "    \n",
    "    def forward(self,x):\n",
    "        x = F.relu(self.fc1(x))\n",
    "        x = F.relu(self.fc2(x))\n",
    "        x = torch.sigmoid(self.fc3(x))\n",
    "        return x"
   ]
  },
  {
   "cell_type": "code",
   "execution_count": null,
   "id": "7d0b0d4c",
   "metadata": {},
   "outputs": [
    {
     "ename": "IndentationError",
     "evalue": "expected an indented block (4070106191.py, line 20)",
     "output_type": "error",
     "traceback": [
      "\u001b[1;36m  Cell \u001b[1;32mIn[1], line 20\u001b[1;36m\u001b[0m\n\u001b[1;33m    \u001b[0m\n\u001b[1;37m    ^\u001b[0m\n\u001b[1;31mIndentationError\u001b[0m\u001b[1;31m:\u001b[0m expected an indented block\n"
     ]
    }
   ],
   "source": [
    "#强化学习的算法一般包括智能体采样/预测/更新，这是每一个强化学习算法必须要有的东西\n",
    "import torch\n",
    "from torch.distributions import Bernouli\n",
    "import numpy as np\n",
    "\n",
    "#初始化的时候我们需要要把model得到，把折扣因子设置好，\n",
    "#选择我们设置的cuda/cpu，然后传入我们之前的网络模型，将模型上传到cuda，\n",
    "#然后设置我们的优化器，这里我们使用Adam优化器，然后传入我们之前设置的记忆库，\n",
    "class PolicyGradient:\n",
    "    def __init__(self,model,memory,cfg): #构建只能体的时候我们是需要模型来采样的所以说需要传入模型\n",
    "        super().__init__()\n",
    "        self.gamma = cfg['gamma']\n",
    "        self.device = torch.device(cfg['device'])\n",
    "        self.memory = memory\n",
    "        self.policy_net = model.to(self.device)\n",
    "        self.optim = torch.optim.Adam(self.policy_net.parameters(),lr = cfg['lr'])\n",
    "\n",
    "    def sample_action(self,state):\n",
    "        pass\n",
    "\n",
    "    def predict_action(self,state):\n",
    "        pass\n",
    "\n",
    "    def updata(self):\n",
    "        pass"
   ]
  },
  {
   "cell_type": "code",
   "execution_count": 6,
   "id": "aa1fcf73",
   "metadata": {},
   "outputs": [
    {
     "data": {
      "text/plain": [
       "<function Tensor.float>"
      ]
     },
     "execution_count": 6,
     "metadata": {},
     "output_type": "execute_result"
    }
   ],
   "source": [
    "import torch\n",
    "import numpy as np\n",
    "a = [1,2,3]\n",
    "a = np.array(a)\n",
    "torch.from_numpy(a).float"
   ]
  }
 ],
 "metadata": {
  "kernelspec": {
   "display_name": "d2l",
   "language": "python",
   "name": "python3"
  },
  "language_info": {
   "codemirror_mode": {
    "name": "ipython",
    "version": 3
   },
   "file_extension": ".py",
   "mimetype": "text/x-python",
   "name": "python",
   "nbconvert_exporter": "python",
   "pygments_lexer": "ipython3",
   "version": "3.9.23"
  }
 },
 "nbformat": 4,
 "nbformat_minor": 5
}
