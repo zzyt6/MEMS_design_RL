{
 "cells": [
  {
   "cell_type": "code",
   "execution_count": 31,
   "id": "1b0f3924",
   "metadata": {},
   "outputs": [],
   "source": [
    "import torch\n",
    "from torch import nn\n",
    "from torch.utils.data import DataLoader\n",
    "from torchvision import datasets  #torchvision/torchtext/torchAudio 都包含数据集  \n",
    "from torchvision.transforms import ToTensor"
   ]
  },
  {
   "cell_type": "code",
   "execution_count": 32,
   "id": "4dd70724",
   "metadata": {},
   "outputs": [],
   "source": [
    "train_data = datasets.FashionMNIST(root=\"../datasets\",\n",
    "train= True,transform= ToTensor(),\n",
    "download=True)\n",
    "test_data = datasets.FashionMNIST(root=\"../datasets\",\n",
    "train= False,transform= ToTensor(),\n",
    "download=True)\n",
    "#TOTENSOR将目标值缩放到了我们【0，1】之间"
   ]
  },
  {
   "cell_type": "code",
   "execution_count": 33,
   "id": "9d9e1047",
   "metadata": {},
   "outputs": [
    {
     "name": "stdout",
     "output_type": "stream",
     "text": [
      "torch.Size([64, 1, 28, 28])\n",
      "torch.Size([64])\n"
     ]
    }
   ],
   "source": [
    "\"\"\"\n",
    "数据加载器结合了  数据集 和  采样器，并提供对给定数据集的可迭代对象。 \n",
    "支持映射样式\n",
    "和可迭代样式的数据集，\n",
    "具有单进程或多进程加载、\n",
    "自定义加载顺序\n",
    "以及可选的自动批处理（排序规则）\n",
    "和内存固定\n",
    "sampler和shuffle不能并存,sampler的可以自定义采样策略\n",
    "batch_sampler 和batch_size, shuffle, sampler, and drop_last不能并存\n",
    "\n",
    "\n",
    "设计到数据集取样的东西可以在DataLoader中去设置\n",
    "\"\"\"\n",
    "\n",
    "train_dataload = DataLoader(train_data,batch_size=64,shuffle = True,num_workers = 4,drop_last = True)\n",
    "test_dataload = DataLoader(test_data,batch_size=64,shuffle = True,num_workers = 4,drop_last = True)\n",
    "\n",
    "\"\"\"\n",
    "创建了一个迭代器，每个迭代的元素就有64个\n",
    "\"\"\"\n",
    "\n",
    "for x,y in train_dataload:\n",
    "    print(x.shape)\n",
    "    print(y.shape)\n",
    "    break\n",
    "# print(len(train_dataload))"
   ]
  },
  {
   "cell_type": "code",
   "execution_count": 34,
   "id": "313620d3",
   "metadata": {},
   "outputs": [
    {
     "name": "stdout",
     "output_type": "stream",
     "text": [
      "decive = cuda\n"
     ]
    },
    {
     "data": {
      "text/plain": [
       "MLP(\n",
       "  (flatten): Flatten(start_dim=1, end_dim=-1)\n",
       "  (liner_relu_stack): Sequential(\n",
       "    (0): Linear(in_features=784, out_features=512, bias=True)\n",
       "    (1): ReLU()\n",
       "    (2): Linear(in_features=512, out_features=512, bias=True)\n",
       "    (3): ReLU()\n",
       "    (4): Linear(in_features=512, out_features=10, bias=True)\n",
       "  )\n",
       ")"
      ]
     },
     "execution_count": 34,
     "metadata": {},
     "output_type": "execute_result"
    }
   ],
   "source": [
    "\"\"\"\n",
    "创建一个模型，并且在创建了模型以后将其直接加载到cuda上面去\n",
    "\"\"\"\n",
    "from turtle import forward\n",
    "\n",
    "\n",
    "device = torch.accelerator.current_accelerator().type if torch.accelerator.is_available() else \"cpu\"\n",
    "print(\"decive = {}\".format(device))\n",
    "\n",
    "class MLP(nn.Module):\n",
    "    def __init__(self):\n",
    "        super().__init__()\n",
    "        self.flatten = nn.Flatten()\n",
    "        self.liner_relu_stack = nn.Sequential(\n",
    "            nn.Linear(28*28, 512),\n",
    "            nn.ReLU(),\n",
    "            nn.Linear(512, 512),\n",
    "            nn.ReLU(),\n",
    "            nn.Linear(512, 10)\n",
    "        )\n",
    "    \n",
    "    def forward(self,x):\n",
    "        x = self.flatten(x)\n",
    "        x = self.liner_relu_stack(x)\n",
    "        return x\n",
    "\n",
    "predict_model = MLP()\n",
    "predict_model.to(device)"
   ]
  },
  {
   "cell_type": "code",
   "execution_count": 35,
   "id": "6c0ff793",
   "metadata": {},
   "outputs": [],
   "source": [
    "import torch.optim as optim\n",
    "loss = nn.CrossEntropyLoss()\n",
    "optims = optim.Adam(predict_model.parameters(),lr=0.001)"
   ]
  },
  {
   "cell_type": "code",
   "execution_count": 41,
   "id": "885025fe",
   "metadata": {},
   "outputs": [],
   "source": [
    "def train(dataloader : DataLoader,model : MLP,loss_F,optim):\n",
    "    model.train()\n",
    "    for batch, (x,y) in enumerate(dataloader):\n",
    "        x,y = x.to(device),y.to(device)\n",
    "        predict = model(x)\n",
    "        optim.zero_grad()\n",
    "        loss = loss_F(predict,y)\n",
    "        loss.backward()\n",
    "        optim.step()\n",
    "        if batch % 500 ==0 :\n",
    "            loss = loss.item()\n",
    "            print(\"第{}批 ： loss = {}\".format(batch,loss))\n",
    "\n",
    "def test(dataloader : DataLoader,model : MLP,loss_F):\n",
    "    model.eval()\n",
    "    current = 0\n",
    "    batch_all = 0\n",
    "    with torch.no_grad():\n",
    "        for batch, (x,y) in enumerate(dataloader):\n",
    "            x,y = x.to(device),y.to(device)\n",
    "            predict = model(x) #predict的形状是64✖10的\n",
    "            loss = loss_F(predict,y)\n",
    "            # if batch % 10 == 0:\n",
    "            #     print(f\"test_loss{loss}\")\n",
    "            current += (predict.argmax(dim = 1) == y).float().sum().item()\n",
    "            batch_all += 64\n",
    "    print(f\"总的准确度{current/batch_all}\")\n",
    "    "
   ]
  },
  {
   "cell_type": "code",
   "execution_count": 42,
   "id": "5109d3d0",
   "metadata": {},
   "outputs": [
    {
     "name": "stdout",
     "output_type": "stream",
     "text": [
      "0/10 :\n",
      "第0批 ： loss = 0.3828061819076538\n",
      "第500批 ： loss = 0.34215041995048523\n",
      "总的准确度0.8910919156883671\n",
      "1/10 :\n",
      "第0批 ： loss = 0.37918615341186523\n",
      "第500批 ： loss = 0.22067591547966003\n",
      "总的准确度0.8905749733191035\n",
      "2/10 :\n",
      "第0批 ： loss = 0.2693765163421631\n",
      "第500批 ： loss = 0.4474758803844452\n",
      "总的准确度0.8990128068303095\n",
      "3/10 :\n",
      "第0批 ： loss = 0.1845795065164566\n",
      "第500批 ： loss = 0.266044020652771\n",
      "总的准确度0.906049893276414\n",
      "4/10 :\n",
      "第0批 ： loss = 0.31556612253189087\n",
      "第500批 ： loss = 0.2559833824634552\n",
      "总的准确度0.9107190501600854\n",
      "5/10 :\n",
      "第0批 ： loss = 0.33894336223602295\n",
      "第500批 ： loss = 0.31940582394599915\n",
      "总的准确度0.9140875133404482\n",
      "6/10 :\n",
      "第0批 ： loss = 0.14086760580539703\n",
      "第500批 ： loss = 0.2193586528301239\n",
      "总的准确度0.9173392475987193\n",
      "7/10 :\n",
      "第0批 ： loss = 0.2069055140018463\n",
      "第500批 ： loss = 0.24145254492759705\n",
      "总的准确度0.9259938633938101\n",
      "8/10 :\n",
      "第0批 ： loss = 0.27299946546554565\n",
      "第500批 ： loss = 0.1824720948934555\n",
      "总的准确度0.9167556029882604\n",
      "9/10 :\n",
      "第0批 ： loss = 0.29165220260620117\n",
      "第500批 ： loss = 0.22651247680187225\n",
      "总的准确度0.932130469583778\n",
      "done!\n"
     ]
    }
   ],
   "source": [
    "for i in range(10):\n",
    "    print(f\"{i}/10 :\")\n",
    "    train(train_dataload,predict_model,loss,optims)\n",
    "    test(train_dataload,predict_model,loss)\n",
    "print(\"done!\")"
   ]
  },
  {
   "cell_type": "code",
   "execution_count": 43,
   "id": "288afadb",
   "metadata": {},
   "outputs": [
    {
     "name": "stdout",
     "output_type": "stream",
     "text": [
      "Saved PyTorch Model State to model.pth\n"
     ]
    }
   ],
   "source": [
    "torch.save(predict_model.state_dict(), \"predict_model.pth\")\n",
    "print(\"Saved PyTorch Model State to model.pth\")"
   ]
  }
 ],
 "metadata": {
  "kernelspec": {
   "display_name": "d2l",
   "language": "python",
   "name": "python3"
  },
  "language_info": {
   "codemirror_mode": {
    "name": "ipython",
    "version": 3
   },
   "file_extension": ".py",
   "mimetype": "text/x-python",
   "name": "python",
   "nbconvert_exporter": "python",
   "pygments_lexer": "ipython3",
   "version": "3.9.23"
  }
 },
 "nbformat": 4,
 "nbformat_minor": 5
}
